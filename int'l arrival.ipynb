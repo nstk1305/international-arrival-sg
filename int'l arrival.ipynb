{
 "cells": [
  {
   "cell_type": "code",
   "execution_count": 1,
   "id": "e658ae77",
   "metadata": {},
   "outputs": [],
   "source": [
    "import pandas as pd\n",
    "import numpy as np"
   ]
  },
  {
   "cell_type": "code",
   "execution_count": 2,
   "id": "9ceaea45",
   "metadata": {},
   "outputs": [],
   "source": [
    "df = pd.read_csv(\"international-visitor-arrivals-by-country-of-nationality.csv\")"
   ]
  },
  {
   "cell_type": "code",
   "execution_count": 3,
   "id": "c63d644b",
   "metadata": {},
   "outputs": [
    {
     "data": {
      "text/html": [
       "<div>\n",
       "<style scoped>\n",
       "    .dataframe tbody tr th:only-of-type {\n",
       "        vertical-align: middle;\n",
       "    }\n",
       "\n",
       "    .dataframe tbody tr th {\n",
       "        vertical-align: top;\n",
       "    }\n",
       "\n",
       "    .dataframe thead th {\n",
       "        text-align: right;\n",
       "    }\n",
       "</style>\n",
       "<table border=\"1\" class=\"dataframe\">\n",
       "  <thead>\n",
       "    <tr style=\"text-align: right;\">\n",
       "      <th></th>\n",
       "      <th>period</th>\n",
       "      <th>region</th>\n",
       "      <th>con</th>\n",
       "      <th>arv_count</th>\n",
       "    </tr>\n",
       "  </thead>\n",
       "  <tbody>\n",
       "    <tr>\n",
       "      <th>0</th>\n",
       "      <td>2013-01</td>\n",
       "      <td>Americas</td>\n",
       "      <td>Canada</td>\n",
       "      <td>13080</td>\n",
       "    </tr>\n",
       "    <tr>\n",
       "      <th>1</th>\n",
       "      <td>2013-01</td>\n",
       "      <td>Americas</td>\n",
       "      <td>USA</td>\n",
       "      <td>48815</td>\n",
       "    </tr>\n",
       "    <tr>\n",
       "      <th>2</th>\n",
       "      <td>2013-01</td>\n",
       "      <td>Americas</td>\n",
       "      <td>Other Countries in Americas</td>\n",
       "      <td>6742</td>\n",
       "    </tr>\n",
       "    <tr>\n",
       "      <th>3</th>\n",
       "      <td>2013-01</td>\n",
       "      <td>Asia</td>\n",
       "      <td>Brunei Darussalam</td>\n",
       "      <td>4709</td>\n",
       "    </tr>\n",
       "    <tr>\n",
       "      <th>4</th>\n",
       "      <td>2013-01</td>\n",
       "      <td>Asia</td>\n",
       "      <td>Indonesia</td>\n",
       "      <td>257842</td>\n",
       "    </tr>\n",
       "  </tbody>\n",
       "</table>\n",
       "</div>"
      ],
      "text/plain": [
       "    period    region                          con  arv_count\n",
       "0  2013-01  Americas                       Canada      13080\n",
       "1  2013-01  Americas                          USA      48815\n",
       "2  2013-01  Americas  Other Countries in Americas       6742\n",
       "3  2013-01      Asia            Brunei Darussalam       4709\n",
       "4  2013-01      Asia                    Indonesia     257842"
      ]
     },
     "execution_count": 3,
     "metadata": {},
     "output_type": "execute_result"
    }
   ],
   "source": [
    "df.head()"
   ]
  },
  {
   "cell_type": "code",
   "execution_count": 4,
   "id": "74abe774",
   "metadata": {},
   "outputs": [
    {
     "data": {
      "text/plain": [
       "(1344, 4)"
      ]
     },
     "execution_count": 4,
     "metadata": {},
     "output_type": "execute_result"
    }
   ],
   "source": [
    "df.shape"
   ]
  },
  {
   "cell_type": "code",
   "execution_count": 5,
   "id": "072011cb",
   "metadata": {},
   "outputs": [
    {
     "data": {
      "text/plain": [
       "period       object\n",
       "region       object\n",
       "con          object\n",
       "arv_count     int64\n",
       "dtype: object"
      ]
     },
     "execution_count": 5,
     "metadata": {},
     "output_type": "execute_result"
    }
   ],
   "source": [
    "df.dtypes"
   ]
  },
  {
   "cell_type": "code",
   "execution_count": 6,
   "id": "2dabbb1d",
   "metadata": {},
   "outputs": [],
   "source": [
    "total_visitor_by_country = df.groupby(\"con\")[\"arv_count\"].sum()"
   ]
  },
  {
   "cell_type": "code",
   "execution_count": 7,
   "id": "f5c29420",
   "metadata": {},
   "outputs": [
    {
     "data": {
      "text/plain": [
       "con\n",
       "Australia                            2025732\n",
       "Austria                                57340\n",
       "Bangladesh                            244549\n",
       "Belgium &  Luxembourg                  58598\n",
       "Brunei Darussalam                     125039\n",
       "Canada                                270537\n",
       "China                                4837558\n",
       "Denmark                                75911\n",
       "Egypt                                  10801\n",
       "Finland                                66032\n",
       "France                                399402\n",
       "Germany                               567745\n",
       "Greece                                 18251\n",
       "India                                2031437\n",
       "Indonesia                            6142444\n",
       "Iran                                   28174\n",
       "Israel                                 30373\n",
       "Italy                                 162742\n",
       "Japan                                1785444\n",
       "Kuwait                                 17504\n",
       "Malaysia                             2019242\n",
       "Mauritius                              17460\n",
       "Myanmar                               214799\n",
       "Nepal                                  35804\n",
       "Netherlands                           203133\n",
       "New Zealand                           273974\n",
       "Norway                                 71967\n",
       "Not Stated                              4439\n",
       "Other Countries in Africa              50634\n",
       "Other Countries in Americas           140575\n",
       "Other Countries in Eastern Europe     177367\n",
       "Other Countries in North Asia          19929\n",
       "Other Countries in Oceania             19145\n",
       "Other Countries in South Asia          18856\n",
       "Other Countries in Southeast Asia      99195\n",
       "Other Countries in West Asia           40324\n",
       "Other Countries in Western Europe      42048\n",
       "Pakistan                               48059\n",
       "Philippines                          1453775\n",
       "Poland                                 51365\n",
       "Rep of Ireland                         59080\n",
       "Russian Federation (CIS)              180996\n",
       "Saudi Arabia                           34861\n",
       "South Africa (Rep of)                  69387\n",
       "South Korea                          1064903\n",
       "Spain                                  89532\n",
       "Sri Lanka                             198287\n",
       "Sweden                                101419\n",
       "Switzerland                           163233\n",
       "Taiwan                                702086\n",
       "Thailand                              923875\n",
       "Turkey                                 42564\n",
       "UK                                   1173629\n",
       "USA                                  1076939\n",
       "United Arab Emirates                   36797\n",
       "Vietnam                               787784\n",
       "Name: arv_count, dtype: int64"
      ]
     },
     "execution_count": 7,
     "metadata": {},
     "output_type": "execute_result"
    }
   ],
   "source": [
    "total_visitor_by_country"
   ]
  },
  {
   "cell_type": "code",
   "execution_count": 8,
   "id": "fc4ffd7d",
   "metadata": {},
   "outputs": [],
   "source": [
    "df['year'] = pd.DatetimeIndex(df['period']).year"
   ]
  },
  {
   "cell_type": "code",
   "execution_count": 9,
   "id": "fd68b6b2",
   "metadata": {},
   "outputs": [
    {
     "data": {
      "text/html": [
       "<div>\n",
       "<style scoped>\n",
       "    .dataframe tbody tr th:only-of-type {\n",
       "        vertical-align: middle;\n",
       "    }\n",
       "\n",
       "    .dataframe tbody tr th {\n",
       "        vertical-align: top;\n",
       "    }\n",
       "\n",
       "    .dataframe thead th {\n",
       "        text-align: right;\n",
       "    }\n",
       "</style>\n",
       "<table border=\"1\" class=\"dataframe\">\n",
       "  <thead>\n",
       "    <tr style=\"text-align: right;\">\n",
       "      <th></th>\n",
       "      <th>period</th>\n",
       "      <th>region</th>\n",
       "      <th>con</th>\n",
       "      <th>arv_count</th>\n",
       "      <th>year</th>\n",
       "    </tr>\n",
       "  </thead>\n",
       "  <tbody>\n",
       "    <tr>\n",
       "      <th>0</th>\n",
       "      <td>2013-01</td>\n",
       "      <td>Americas</td>\n",
       "      <td>Canada</td>\n",
       "      <td>13080</td>\n",
       "      <td>2013</td>\n",
       "    </tr>\n",
       "    <tr>\n",
       "      <th>1</th>\n",
       "      <td>2013-01</td>\n",
       "      <td>Americas</td>\n",
       "      <td>USA</td>\n",
       "      <td>48815</td>\n",
       "      <td>2013</td>\n",
       "    </tr>\n",
       "    <tr>\n",
       "      <th>2</th>\n",
       "      <td>2013-01</td>\n",
       "      <td>Americas</td>\n",
       "      <td>Other Countries in Americas</td>\n",
       "      <td>6742</td>\n",
       "      <td>2013</td>\n",
       "    </tr>\n",
       "    <tr>\n",
       "      <th>3</th>\n",
       "      <td>2013-01</td>\n",
       "      <td>Asia</td>\n",
       "      <td>Brunei Darussalam</td>\n",
       "      <td>4709</td>\n",
       "      <td>2013</td>\n",
       "    </tr>\n",
       "    <tr>\n",
       "      <th>4</th>\n",
       "      <td>2013-01</td>\n",
       "      <td>Asia</td>\n",
       "      <td>Indonesia</td>\n",
       "      <td>257842</td>\n",
       "      <td>2013</td>\n",
       "    </tr>\n",
       "  </tbody>\n",
       "</table>\n",
       "</div>"
      ],
      "text/plain": [
       "    period    region                          con  arv_count  year\n",
       "0  2013-01  Americas                       Canada      13080  2013\n",
       "1  2013-01  Americas                          USA      48815  2013\n",
       "2  2013-01  Americas  Other Countries in Americas       6742  2013\n",
       "3  2013-01      Asia            Brunei Darussalam       4709  2013\n",
       "4  2013-01      Asia                    Indonesia     257842  2013"
      ]
     },
     "execution_count": 9,
     "metadata": {},
     "output_type": "execute_result"
    }
   ],
   "source": [
    "df.head()"
   ]
  },
  {
   "cell_type": "code",
   "execution_count": 10,
   "id": "423a6843",
   "metadata": {},
   "outputs": [],
   "source": [
    "df['month'] = pd.DatetimeIndex(df['period']).month"
   ]
  },
  {
   "cell_type": "code",
   "execution_count": 11,
   "id": "b04d5fb5",
   "metadata": {
    "scrolled": true
   },
   "outputs": [
    {
     "data": {
      "text/html": [
       "<div>\n",
       "<style scoped>\n",
       "    .dataframe tbody tr th:only-of-type {\n",
       "        vertical-align: middle;\n",
       "    }\n",
       "\n",
       "    .dataframe tbody tr th {\n",
       "        vertical-align: top;\n",
       "    }\n",
       "\n",
       "    .dataframe thead th {\n",
       "        text-align: right;\n",
       "    }\n",
       "</style>\n",
       "<table border=\"1\" class=\"dataframe\">\n",
       "  <thead>\n",
       "    <tr style=\"text-align: right;\">\n",
       "      <th></th>\n",
       "      <th>period</th>\n",
       "      <th>region</th>\n",
       "      <th>con</th>\n",
       "      <th>arv_count</th>\n",
       "      <th>year</th>\n",
       "      <th>month</th>\n",
       "    </tr>\n",
       "  </thead>\n",
       "  <tbody>\n",
       "    <tr>\n",
       "      <th>0</th>\n",
       "      <td>2013-01</td>\n",
       "      <td>Americas</td>\n",
       "      <td>Canada</td>\n",
       "      <td>13080</td>\n",
       "      <td>2013</td>\n",
       "      <td>1</td>\n",
       "    </tr>\n",
       "    <tr>\n",
       "      <th>1</th>\n",
       "      <td>2013-01</td>\n",
       "      <td>Americas</td>\n",
       "      <td>USA</td>\n",
       "      <td>48815</td>\n",
       "      <td>2013</td>\n",
       "      <td>1</td>\n",
       "    </tr>\n",
       "    <tr>\n",
       "      <th>2</th>\n",
       "      <td>2013-01</td>\n",
       "      <td>Americas</td>\n",
       "      <td>Other Countries in Americas</td>\n",
       "      <td>6742</td>\n",
       "      <td>2013</td>\n",
       "      <td>1</td>\n",
       "    </tr>\n",
       "    <tr>\n",
       "      <th>3</th>\n",
       "      <td>2013-01</td>\n",
       "      <td>Asia</td>\n",
       "      <td>Brunei Darussalam</td>\n",
       "      <td>4709</td>\n",
       "      <td>2013</td>\n",
       "      <td>1</td>\n",
       "    </tr>\n",
       "    <tr>\n",
       "      <th>4</th>\n",
       "      <td>2013-01</td>\n",
       "      <td>Asia</td>\n",
       "      <td>Indonesia</td>\n",
       "      <td>257842</td>\n",
       "      <td>2013</td>\n",
       "      <td>1</td>\n",
       "    </tr>\n",
       "  </tbody>\n",
       "</table>\n",
       "</div>"
      ],
      "text/plain": [
       "    period    region                          con  arv_count  year  month\n",
       "0  2013-01  Americas                       Canada      13080  2013      1\n",
       "1  2013-01  Americas                          USA      48815  2013      1\n",
       "2  2013-01  Americas  Other Countries in Americas       6742  2013      1\n",
       "3  2013-01      Asia            Brunei Darussalam       4709  2013      1\n",
       "4  2013-01      Asia                    Indonesia     257842  2013      1"
      ]
     },
     "execution_count": 11,
     "metadata": {},
     "output_type": "execute_result"
    }
   ],
   "source": [
    "df.head()"
   ]
  },
  {
   "cell_type": "code",
   "execution_count": 12,
   "id": "680c2df3",
   "metadata": {
    "scrolled": true
   },
   "outputs": [
    {
     "data": {
      "text/html": [
       "<div>\n",
       "<style scoped>\n",
       "    .dataframe tbody tr th:only-of-type {\n",
       "        vertical-align: middle;\n",
       "    }\n",
       "\n",
       "    .dataframe tbody tr th {\n",
       "        vertical-align: top;\n",
       "    }\n",
       "\n",
       "    .dataframe thead th {\n",
       "        text-align: right;\n",
       "    }\n",
       "</style>\n",
       "<table border=\"1\" class=\"dataframe\">\n",
       "  <thead>\n",
       "    <tr style=\"text-align: right;\">\n",
       "      <th></th>\n",
       "      <th>period</th>\n",
       "      <th>region</th>\n",
       "      <th>con</th>\n",
       "      <th>arv_count</th>\n",
       "      <th>year</th>\n",
       "      <th>month</th>\n",
       "    </tr>\n",
       "  </thead>\n",
       "  <tbody>\n",
       "    <tr>\n",
       "      <th>1339</th>\n",
       "      <td>2014-12</td>\n",
       "      <td>Africa</td>\n",
       "      <td>Egypt</td>\n",
       "      <td>546</td>\n",
       "      <td>2014</td>\n",
       "      <td>12</td>\n",
       "    </tr>\n",
       "    <tr>\n",
       "      <th>1340</th>\n",
       "      <td>2014-12</td>\n",
       "      <td>Africa</td>\n",
       "      <td>Mauritius</td>\n",
       "      <td>1469</td>\n",
       "      <td>2014</td>\n",
       "      <td>12</td>\n",
       "    </tr>\n",
       "    <tr>\n",
       "      <th>1341</th>\n",
       "      <td>2014-12</td>\n",
       "      <td>Africa</td>\n",
       "      <td>South Africa (Rep of)</td>\n",
       "      <td>5002</td>\n",
       "      <td>2014</td>\n",
       "      <td>12</td>\n",
       "    </tr>\n",
       "    <tr>\n",
       "      <th>1342</th>\n",
       "      <td>2014-12</td>\n",
       "      <td>Africa</td>\n",
       "      <td>Other Countries in Africa</td>\n",
       "      <td>3028</td>\n",
       "      <td>2014</td>\n",
       "      <td>12</td>\n",
       "    </tr>\n",
       "    <tr>\n",
       "      <th>1343</th>\n",
       "      <td>2014-12</td>\n",
       "      <td>Not Stated</td>\n",
       "      <td>Not Stated</td>\n",
       "      <td>51</td>\n",
       "      <td>2014</td>\n",
       "      <td>12</td>\n",
       "    </tr>\n",
       "  </tbody>\n",
       "</table>\n",
       "</div>"
      ],
      "text/plain": [
       "       period      region                        con  arv_count  year  month\n",
       "1339  2014-12      Africa                      Egypt        546  2014     12\n",
       "1340  2014-12      Africa                  Mauritius       1469  2014     12\n",
       "1341  2014-12      Africa      South Africa (Rep of)       5002  2014     12\n",
       "1342  2014-12      Africa  Other Countries in Africa       3028  2014     12\n",
       "1343  2014-12  Not Stated                 Not Stated         51  2014     12"
      ]
     },
     "execution_count": 12,
     "metadata": {},
     "output_type": "execute_result"
    }
   ],
   "source": [
    "df.tail()"
   ]
  },
  {
   "cell_type": "code",
   "execution_count": 13,
   "id": "01bea5cb",
   "metadata": {
    "scrolled": true
   },
   "outputs": [
    {
     "data": {
      "text/plain": [
       "period       object\n",
       "region       object\n",
       "con          object\n",
       "arv_count     int64\n",
       "year          int64\n",
       "month         int64\n",
       "dtype: object"
      ]
     },
     "execution_count": 13,
     "metadata": {},
     "output_type": "execute_result"
    }
   ],
   "source": [
    "df.dtypes"
   ]
  },
  {
   "cell_type": "code",
   "execution_count": 14,
   "id": "fc7ac43d",
   "metadata": {},
   "outputs": [
    {
     "data": {
      "text/plain": [
       "period       0\n",
       "region       0\n",
       "con          0\n",
       "arv_count    0\n",
       "year         0\n",
       "month        0\n",
       "dtype: int64"
      ]
     },
     "execution_count": 14,
     "metadata": {},
     "output_type": "execute_result"
    }
   ],
   "source": [
    "df.isna().sum()  #there is no missing data"
   ]
  },
  {
   "cell_type": "code",
   "execution_count": 15,
   "id": "234bb754",
   "metadata": {},
   "outputs": [],
   "source": [
    "import pandas as pd\n",
    "import numpy as np\n",
    "import matplotlib.pyplot as plt\n",
    "%matplotlib inline"
   ]
  },
  {
   "cell_type": "code",
   "execution_count": 22,
   "id": "924600a2",
   "metadata": {},
   "outputs": [],
   "source": [
    "total_visitors_by_year = df.groupby(\"year\")[\"arv_count\"].sum()"
   ]
  },
  {
   "cell_type": "code",
   "execution_count": 30,
   "id": "e869eeea",
   "metadata": {},
   "outputs": [
    {
     "data": {
      "text/plain": [
       "year\n",
       "2013    15567923\n",
       "2014    15095152\n",
       "Name: arv_count, dtype: int64"
      ]
     },
     "execution_count": 30,
     "metadata": {},
     "output_type": "execute_result"
    }
   ],
   "source": [
    "total_visitors_by_year\n",
    "\n",
    "#total visitors has fallen in 2014 by 472,771"
   ]
  },
  {
   "cell_type": "code",
   "execution_count": 31,
   "id": "6bd50e84",
   "metadata": {},
   "outputs": [],
   "source": [
    "total_visitors_by_region = df.groupby(\"region\").sum()"
   ]
  },
  {
   "cell_type": "code",
   "execution_count": 32,
   "id": "7f0c23dd",
   "metadata": {},
   "outputs": [
    {
     "data": {
      "text/html": [
       "<div>\n",
       "<style scoped>\n",
       "    .dataframe tbody tr th:only-of-type {\n",
       "        vertical-align: middle;\n",
       "    }\n",
       "\n",
       "    .dataframe tbody tr th {\n",
       "        vertical-align: top;\n",
       "    }\n",
       "\n",
       "    .dataframe thead th {\n",
       "        text-align: right;\n",
       "    }\n",
       "</style>\n",
       "<table border=\"1\" class=\"dataframe\">\n",
       "  <thead>\n",
       "    <tr style=\"text-align: right;\">\n",
       "      <th></th>\n",
       "      <th>arv_count</th>\n",
       "      <th>year</th>\n",
       "      <th>month</th>\n",
       "    </tr>\n",
       "    <tr>\n",
       "      <th>region</th>\n",
       "      <th></th>\n",
       "      <th></th>\n",
       "      <th></th>\n",
       "    </tr>\n",
       "  </thead>\n",
       "  <tbody>\n",
       "    <tr>\n",
       "      <th>Africa</th>\n",
       "      <td>148282</td>\n",
       "      <td>193296</td>\n",
       "      <td>624</td>\n",
       "    </tr>\n",
       "    <tr>\n",
       "      <th>Americas</th>\n",
       "      <td>1488051</td>\n",
       "      <td>144972</td>\n",
       "      <td>468</td>\n",
       "    </tr>\n",
       "    <tr>\n",
       "      <th>Asia</th>\n",
       "      <td>22941098</td>\n",
       "      <td>1208100</td>\n",
       "      <td>3900</td>\n",
       "    </tr>\n",
       "    <tr>\n",
       "      <th>Europe</th>\n",
       "      <td>3762354</td>\n",
       "      <td>966480</td>\n",
       "      <td>3120</td>\n",
       "    </tr>\n",
       "    <tr>\n",
       "      <th>Not Stated</th>\n",
       "      <td>4439</td>\n",
       "      <td>48324</td>\n",
       "      <td>156</td>\n",
       "    </tr>\n",
       "    <tr>\n",
       "      <th>Oceania</th>\n",
       "      <td>2318851</td>\n",
       "      <td>144972</td>\n",
       "      <td>468</td>\n",
       "    </tr>\n",
       "  </tbody>\n",
       "</table>\n",
       "</div>"
      ],
      "text/plain": [
       "            arv_count     year  month\n",
       "region                               \n",
       "Africa         148282   193296    624\n",
       "Americas      1488051   144972    468\n",
       "Asia         22941098  1208100   3900\n",
       "Europe        3762354   966480   3120\n",
       "Not Stated       4439    48324    156\n",
       "Oceania       2318851   144972    468"
      ]
     },
     "execution_count": 32,
     "metadata": {},
     "output_type": "execute_result"
    }
   ],
   "source": [
    "total_visitors_by_region"
   ]
  },
  {
   "cell_type": "code",
   "execution_count": 33,
   "id": "564de36a",
   "metadata": {},
   "outputs": [
    {
     "data": {
      "text/plain": [
       "<bound method Series.drop of region\n",
       "Africa         624\n",
       "Americas       468\n",
       "Asia          3900\n",
       "Europe        3120\n",
       "Not Stated     156\n",
       "Oceania        468\n",
       "Name: month, dtype: int64>"
      ]
     },
     "execution_count": 33,
     "metadata": {},
     "output_type": "execute_result"
    }
   ],
   "source": [
    "total_visitors_by_region[\"month\"].drop"
   ]
  },
  {
   "cell_type": "code",
   "execution_count": 34,
   "id": "78b49ea7",
   "metadata": {
    "scrolled": true
   },
   "outputs": [
    {
     "data": {
      "text/html": [
       "<div>\n",
       "<style scoped>\n",
       "    .dataframe tbody tr th:only-of-type {\n",
       "        vertical-align: middle;\n",
       "    }\n",
       "\n",
       "    .dataframe tbody tr th {\n",
       "        vertical-align: top;\n",
       "    }\n",
       "\n",
       "    .dataframe thead th {\n",
       "        text-align: right;\n",
       "    }\n",
       "</style>\n",
       "<table border=\"1\" class=\"dataframe\">\n",
       "  <thead>\n",
       "    <tr style=\"text-align: right;\">\n",
       "      <th></th>\n",
       "      <th>arv_count</th>\n",
       "      <th>year</th>\n",
       "      <th>month</th>\n",
       "    </tr>\n",
       "    <tr>\n",
       "      <th>region</th>\n",
       "      <th></th>\n",
       "      <th></th>\n",
       "      <th></th>\n",
       "    </tr>\n",
       "  </thead>\n",
       "  <tbody>\n",
       "    <tr>\n",
       "      <th>Africa</th>\n",
       "      <td>148282</td>\n",
       "      <td>193296</td>\n",
       "      <td>624</td>\n",
       "    </tr>\n",
       "    <tr>\n",
       "      <th>Americas</th>\n",
       "      <td>1488051</td>\n",
       "      <td>144972</td>\n",
       "      <td>468</td>\n",
       "    </tr>\n",
       "    <tr>\n",
       "      <th>Asia</th>\n",
       "      <td>22941098</td>\n",
       "      <td>1208100</td>\n",
       "      <td>3900</td>\n",
       "    </tr>\n",
       "    <tr>\n",
       "      <th>Europe</th>\n",
       "      <td>3762354</td>\n",
       "      <td>966480</td>\n",
       "      <td>3120</td>\n",
       "    </tr>\n",
       "    <tr>\n",
       "      <th>Not Stated</th>\n",
       "      <td>4439</td>\n",
       "      <td>48324</td>\n",
       "      <td>156</td>\n",
       "    </tr>\n",
       "    <tr>\n",
       "      <th>Oceania</th>\n",
       "      <td>2318851</td>\n",
       "      <td>144972</td>\n",
       "      <td>468</td>\n",
       "    </tr>\n",
       "  </tbody>\n",
       "</table>\n",
       "</div>"
      ],
      "text/plain": [
       "            arv_count     year  month\n",
       "region                               \n",
       "Africa         148282   193296    624\n",
       "Americas      1488051   144972    468\n",
       "Asia         22941098  1208100   3900\n",
       "Europe        3762354   966480   3120\n",
       "Not Stated       4439    48324    156\n",
       "Oceania       2318851   144972    468"
      ]
     },
     "execution_count": 34,
     "metadata": {},
     "output_type": "execute_result"
    }
   ],
   "source": [
    "total_visitors_by_region"
   ]
  },
  {
   "cell_type": "code",
   "execution_count": null,
   "id": "4651f6fb",
   "metadata": {},
   "outputs": [],
   "source": []
  }
 ],
 "metadata": {
  "kernelspec": {
   "display_name": "Python 3 (ipykernel)",
   "language": "python",
   "name": "python3"
  },
  "language_info": {
   "codemirror_mode": {
    "name": "ipython",
    "version": 3
   },
   "file_extension": ".py",
   "mimetype": "text/x-python",
   "name": "python",
   "nbconvert_exporter": "python",
   "pygments_lexer": "ipython3",
   "version": "3.9.7"
  }
 },
 "nbformat": 4,
 "nbformat_minor": 5
}
